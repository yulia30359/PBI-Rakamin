{
  "nbformat": 4,
  "nbformat_minor": 0,
  "metadata": {
    "colab": {
      "provenance": []
    },
    "kernelspec": {
      "name": "python3",
      "display_name": "Python 3"
    },
    "language_info": {
      "name": "python"
    }
  },
  "cells": [
    {
      "cell_type": "code",
      "execution_count": 33,
      "metadata": {
        "id": "bvCv9URQ6qsr"
      },
      "outputs": [],
      "source": [
        "# Install library yang diperlukan\n",
        "import sqlite3\n",
        "import pandas as pd\n",
        "from google.colab import files"
      ]
    },
    {
      "cell_type": "code",
      "source": [
        "# Step 1: Unggah file Excel\n",
        "print(\"Unggah file Excel (customers.xlsx, orders.xlsx, products.xlsx, product_categories.xlsx)\")\n",
        "uploaded = files.upload()"
      ],
      "metadata": {
        "colab": {
          "base_uri": "https://localhost:8080/",
          "height": 264
        },
        "id": "RVQIL3zC-8HM",
        "outputId": "b014f2f1-b41a-4b25-8383-9dd8bf3c2969"
      },
      "execution_count": 26,
      "outputs": [
        {
          "output_type": "stream",
          "name": "stdout",
          "text": [
            "Unggah file Excel (customers.xlsx, orders.xlsx, products.xlsx, product_categories.xlsx)\n"
          ]
        },
        {
          "output_type": "display_data",
          "data": {
            "text/plain": [
              "<IPython.core.display.HTML object>"
            ],
            "text/html": [
              "\n",
              "     <input type=\"file\" id=\"files-290fc7c7-23ae-4f22-ab94-22eff6ee9b97\" name=\"files[]\" multiple disabled\n",
              "        style=\"border:none\" />\n",
              "     <output id=\"result-290fc7c7-23ae-4f22-ab94-22eff6ee9b97\">\n",
              "      Upload widget is only available when the cell has been executed in the\n",
              "      current browser session. Please rerun this cell to enable.\n",
              "      </output>\n",
              "      <script>// Copyright 2017 Google LLC\n",
              "//\n",
              "// Licensed under the Apache License, Version 2.0 (the \"License\");\n",
              "// you may not use this file except in compliance with the License.\n",
              "// You may obtain a copy of the License at\n",
              "//\n",
              "//      http://www.apache.org/licenses/LICENSE-2.0\n",
              "//\n",
              "// Unless required by applicable law or agreed to in writing, software\n",
              "// distributed under the License is distributed on an \"AS IS\" BASIS,\n",
              "// WITHOUT WARRANTIES OR CONDITIONS OF ANY KIND, either express or implied.\n",
              "// See the License for the specific language governing permissions and\n",
              "// limitations under the License.\n",
              "\n",
              "/**\n",
              " * @fileoverview Helpers for google.colab Python module.\n",
              " */\n",
              "(function(scope) {\n",
              "function span(text, styleAttributes = {}) {\n",
              "  const element = document.createElement('span');\n",
              "  element.textContent = text;\n",
              "  for (const key of Object.keys(styleAttributes)) {\n",
              "    element.style[key] = styleAttributes[key];\n",
              "  }\n",
              "  return element;\n",
              "}\n",
              "\n",
              "// Max number of bytes which will be uploaded at a time.\n",
              "const MAX_PAYLOAD_SIZE = 100 * 1024;\n",
              "\n",
              "function _uploadFiles(inputId, outputId) {\n",
              "  const steps = uploadFilesStep(inputId, outputId);\n",
              "  const outputElement = document.getElementById(outputId);\n",
              "  // Cache steps on the outputElement to make it available for the next call\n",
              "  // to uploadFilesContinue from Python.\n",
              "  outputElement.steps = steps;\n",
              "\n",
              "  return _uploadFilesContinue(outputId);\n",
              "}\n",
              "\n",
              "// This is roughly an async generator (not supported in the browser yet),\n",
              "// where there are multiple asynchronous steps and the Python side is going\n",
              "// to poll for completion of each step.\n",
              "// This uses a Promise to block the python side on completion of each step,\n",
              "// then passes the result of the previous step as the input to the next step.\n",
              "function _uploadFilesContinue(outputId) {\n",
              "  const outputElement = document.getElementById(outputId);\n",
              "  const steps = outputElement.steps;\n",
              "\n",
              "  const next = steps.next(outputElement.lastPromiseValue);\n",
              "  return Promise.resolve(next.value.promise).then((value) => {\n",
              "    // Cache the last promise value to make it available to the next\n",
              "    // step of the generator.\n",
              "    outputElement.lastPromiseValue = value;\n",
              "    return next.value.response;\n",
              "  });\n",
              "}\n",
              "\n",
              "/**\n",
              " * Generator function which is called between each async step of the upload\n",
              " * process.\n",
              " * @param {string} inputId Element ID of the input file picker element.\n",
              " * @param {string} outputId Element ID of the output display.\n",
              " * @return {!Iterable<!Object>} Iterable of next steps.\n",
              " */\n",
              "function* uploadFilesStep(inputId, outputId) {\n",
              "  const inputElement = document.getElementById(inputId);\n",
              "  inputElement.disabled = false;\n",
              "\n",
              "  const outputElement = document.getElementById(outputId);\n",
              "  outputElement.innerHTML = '';\n",
              "\n",
              "  const pickedPromise = new Promise((resolve) => {\n",
              "    inputElement.addEventListener('change', (e) => {\n",
              "      resolve(e.target.files);\n",
              "    });\n",
              "  });\n",
              "\n",
              "  const cancel = document.createElement('button');\n",
              "  inputElement.parentElement.appendChild(cancel);\n",
              "  cancel.textContent = 'Cancel upload';\n",
              "  const cancelPromise = new Promise((resolve) => {\n",
              "    cancel.onclick = () => {\n",
              "      resolve(null);\n",
              "    };\n",
              "  });\n",
              "\n",
              "  // Wait for the user to pick the files.\n",
              "  const files = yield {\n",
              "    promise: Promise.race([pickedPromise, cancelPromise]),\n",
              "    response: {\n",
              "      action: 'starting',\n",
              "    }\n",
              "  };\n",
              "\n",
              "  cancel.remove();\n",
              "\n",
              "  // Disable the input element since further picks are not allowed.\n",
              "  inputElement.disabled = true;\n",
              "\n",
              "  if (!files) {\n",
              "    return {\n",
              "      response: {\n",
              "        action: 'complete',\n",
              "      }\n",
              "    };\n",
              "  }\n",
              "\n",
              "  for (const file of files) {\n",
              "    const li = document.createElement('li');\n",
              "    li.append(span(file.name, {fontWeight: 'bold'}));\n",
              "    li.append(span(\n",
              "        `(${file.type || 'n/a'}) - ${file.size} bytes, ` +\n",
              "        `last modified: ${\n",
              "            file.lastModifiedDate ? file.lastModifiedDate.toLocaleDateString() :\n",
              "                                    'n/a'} - `));\n",
              "    const percent = span('0% done');\n",
              "    li.appendChild(percent);\n",
              "\n",
              "    outputElement.appendChild(li);\n",
              "\n",
              "    const fileDataPromise = new Promise((resolve) => {\n",
              "      const reader = new FileReader();\n",
              "      reader.onload = (e) => {\n",
              "        resolve(e.target.result);\n",
              "      };\n",
              "      reader.readAsArrayBuffer(file);\n",
              "    });\n",
              "    // Wait for the data to be ready.\n",
              "    let fileData = yield {\n",
              "      promise: fileDataPromise,\n",
              "      response: {\n",
              "        action: 'continue',\n",
              "      }\n",
              "    };\n",
              "\n",
              "    // Use a chunked sending to avoid message size limits. See b/62115660.\n",
              "    let position = 0;\n",
              "    do {\n",
              "      const length = Math.min(fileData.byteLength - position, MAX_PAYLOAD_SIZE);\n",
              "      const chunk = new Uint8Array(fileData, position, length);\n",
              "      position += length;\n",
              "\n",
              "      const base64 = btoa(String.fromCharCode.apply(null, chunk));\n",
              "      yield {\n",
              "        response: {\n",
              "          action: 'append',\n",
              "          file: file.name,\n",
              "          data: base64,\n",
              "        },\n",
              "      };\n",
              "\n",
              "      let percentDone = fileData.byteLength === 0 ?\n",
              "          100 :\n",
              "          Math.round((position / fileData.byteLength) * 100);\n",
              "      percent.textContent = `${percentDone}% done`;\n",
              "\n",
              "    } while (position < fileData.byteLength);\n",
              "  }\n",
              "\n",
              "  // All done.\n",
              "  yield {\n",
              "    response: {\n",
              "      action: 'complete',\n",
              "    }\n",
              "  };\n",
              "}\n",
              "\n",
              "scope.google = scope.google || {};\n",
              "scope.google.colab = scope.google.colab || {};\n",
              "scope.google.colab._files = {\n",
              "  _uploadFiles,\n",
              "  _uploadFilesContinue,\n",
              "};\n",
              "})(self);\n",
              "</script> "
            ]
          },
          "metadata": {}
        },
        {
          "output_type": "stream",
          "name": "stdout",
          "text": [
            "Saving Products.xlsx to Products.xlsx\n",
            "Saving ProductCategory.xlsx to ProductCategory.xlsx\n",
            "Saving Customers.xlsx to Customers.xlsx\n",
            "Saving Orders.xlsx to Orders.xlsx\n"
          ]
        }
      ]
    },
    {
      "cell_type": "code",
      "source": [
        "# Step 2: Baca file Excel ke DataFrame\n",
        "customers = pd.read_excel('Customers.xlsx')\n",
        "orders = pd.read_excel('Orders.xlsx')\n",
        "products = pd.read_excel('Products.xlsx')\n",
        "product_categories = pd.read_excel('ProductCategory.xlsx')"
      ],
      "metadata": {
        "id": "uIQROxzu_AYy"
      },
      "execution_count": 91,
      "outputs": []
    },
    {
      "cell_type": "code",
      "source": [
        "# Check if 'CategoryID' column exists in 'products' DataFrame\n",
        "if 'CategoryID' not in products.columns:\n",
        "    # If not present, assuming it's named 'CatID' and renaming it\n",
        "    products = products.rename(columns={'CatID': 'CategoryID'})\n",
        "    # If the column is named something else, change 'CatID' to the actual name\n",
        "    # Or, if the column is missing, you need to add it to the DataFrame"
      ],
      "metadata": {
        "id": "z5ov4NxJJXwE"
      },
      "execution_count": 103,
      "outputs": []
    },
    {
      "cell_type": "code",
      "source": [
        "# Step 3: Buat koneksi ke SQLite\n",
        "conn = sqlite3.connect('SalesData.db')\n",
        "cursor = conn.cursor()"
      ],
      "metadata": {
        "id": "eERdAtrGCWWm"
      },
      "execution_count": 113,
      "outputs": []
    },
    {
      "cell_type": "code",
      "source": [
        "# Drop the existing 'products' table if it exists\n",
        "cursor.execute(\"DROP TABLE IF EXISTS products\")\n",
        "conn.commit() # Commit the change"
      ],
      "metadata": {
        "id": "4oR_UNB-K8bv"
      },
      "execution_count": 114,
      "outputs": []
    },
    {
      "cell_type": "code",
      "source": [
        "# Query to retrieve column names from the 'orders' table\n",
        "cursor = conn.cursor()\n",
        "cursor.execute(\"PRAGMA table_info(orders)\")\n",
        "columns = [column[1] for column in cursor.fetchall()]"
      ],
      "metadata": {
        "id": "M4CkfupkHkne"
      },
      "execution_count": 115,
      "outputs": []
    },
    {
      "cell_type": "code",
      "source": [
        "# Print the column names\n",
        "print(columns)"
      ],
      "metadata": {
        "colab": {
          "base_uri": "https://localhost:8080/"
        },
        "id": "8Xe__SKxHpdV",
        "outputId": "6a885ee1-e8bb-46ea-dd4a-fb1e15eebf5f"
      },
      "execution_count": 116,
      "outputs": [
        {
          "output_type": "stream",
          "name": "stdout",
          "text": [
            "['OrderID', 'Date', 'CustomerID', 'ProdNumber', 'Quantity']\n"
          ]
        }
      ]
    },
    {
      "cell_type": "code",
      "source": [
        "# Step 4: Simpan data ke SQLite\n",
        "customers.to_sql('customers', conn, if_exists='replace', index=False)\n",
        "orders.to_sql('orders', conn, if_exists='replace', index=False)\n",
        "products.to_sql('products', conn, if_exists='replace', index=False)\n",
        "product_categories.to_sql('product_categories', conn, if_exists='replace', index=False)\n",
        "\n",
        "print(\"Data berhasil disimpan ke database SQLite.\")"
      ],
      "metadata": {
        "colab": {
          "base_uri": "https://localhost:8080/"
        },
        "id": "eFzdR7ExCbph",
        "outputId": "d3fca96b-fe0d-413a-a764-cf31e2cc9e73"
      },
      "execution_count": 117,
      "outputs": [
        {
          "output_type": "stream",
          "name": "stdout",
          "text": [
            "Data berhasil disimpan ke database SQLite.\n"
          ]
        }
      ]
    },
    {
      "cell_type": "code",
      "source": [
        "# Query untuk membuat master table\n",
        "query = \"\"\"\n",
        "    SELECT\n",
        "        c.CustomerEmail AS cust_email,\n",
        "        c.CustomerCity AS cust_city,\n",
        "        o.Date AS order_date,\n",
        "        o.Quantity AS order_qty,\n",
        "        p.ProdName AS product_name,\n",
        "        p.Price AS product_price,\n",
        "        pc.CategoryName AS category_name,\n",
        "        (o.Quantity * p.Price) AS total_sales\n",
        "    FROM orders o\n",
        "    JOIN customers c ON o.CustomerID = c.CustomerID\n",
        "    JOIN products p ON o.ProdNumber = p.ProdNumber\n",
        "    JOIN product_categories pc ON p.Category = pc.CategoryID\n",
        "    ORDER BY o.Date\n",
        "\"\"\""
      ],
      "metadata": {
        "id": "lz723rIVCgjy"
      },
      "execution_count": 120,
      "outputs": []
    },
    {
      "cell_type": "code",
      "source": [
        "# Eksekusi query dan simpan hasil ke DataFrame\n",
        "master_table = pd.read_sql(query, conn)"
      ],
      "metadata": {
        "id": "SkEgs-XfClpe"
      },
      "execution_count": 121,
      "outputs": []
    },
    {
      "cell_type": "code",
      "source": [
        "# Tampilkan hasil master data\n",
        "print(\"Tabel Master Data:\")\n",
        "print(master_table)\n"
      ],
      "metadata": {
        "colab": {
          "base_uri": "https://localhost:8080/"
        },
        "id": "OZBJL0p2MeUV",
        "outputId": "b60566bc-5d4a-44e3-f499-54f6a4680e62"
      },
      "execution_count": 122,
      "outputs": [
        {
          "output_type": "stream",
          "name": "stdout",
          "text": [
            "Tabel Master Data:\n",
            "                                             cust_email         cust_city  \\\n",
            "0     fvaslerqt@comsenz.com#mailto:fvaslerqt@comsenz...           Jackson   \n",
            "1     tmckernot@tinyurl.com#mailto:tmckernot@tinyurl...              Katy   \n",
            "2     gstiggersdd@eventbrite.com#mailto:gstiggersdd@...  Saint Petersburg   \n",
            "3                     edew@nba.com#mailto:edew@nba.com#          Honolulu   \n",
            "4           llespercx@com.com#mailto:llespercx@com.com#        Des Moines   \n",
            "...                                                 ...               ...   \n",
            "3334  rcossumba@devhub.com#mailto:rcossumba@devhub.com#       Saint Louis   \n",
            "3335  ngysehg@pagesperso-orange.fr#mailto:ngysehg@pa...          Richmond   \n",
            "3336  kcoytenm@bandcamp.com#mailto:kcoytenm@bandcamp...      Philadelphia   \n",
            "3337  nmotherwello3@istockphoto.com#mailto:nmotherwe...           Atlanta   \n",
            "3338  ccollopoi@delicious.com#mailto:ccollopoi@delic...        Pittsburgh   \n",
            "\n",
            "               order_date  order_qty              product_name  product_price  \\\n",
            "0     2020-01-01 00:00:00          2              Polar Robots          23.99   \n",
            "1     2020-01-01 00:00:00          3              RWW-75 Robot         883.00   \n",
            "2     2020-01-01 00:00:00          6    Drone Video Techniques          37.99   \n",
            "3     2020-01-01 00:00:00          1                  BYOD-220          69.00   \n",
            "4     2020-01-01 00:00:00          5              SCARA Robots          19.50   \n",
            "...                   ...        ...                       ...            ...   \n",
            "3334  2021-12-31 00:00:00          5              DC-304 Drone         395.00   \n",
            "3335  2021-12-31 00:00:00          2  Understanding Automation          44.95   \n",
            "3336  2021-12-31 00:00:00          5            RXW-9807 Robot         599.00   \n",
            "3337  2021-12-31 00:00:00          4                 BYOR-1000         189.00   \n",
            "3338  2021-12-31 00:00:00          5  Understanding Automation          44.95   \n",
            "\n",
            "        category_name  total_sales  \n",
            "0              eBooks        47.98  \n",
            "1              Robots      2649.00  \n",
            "2     Training Videos       227.94  \n",
            "3          Drone Kits        69.00  \n",
            "4              eBooks        97.50  \n",
            "...               ...          ...  \n",
            "3334           Drones      1975.00  \n",
            "3335  Training Videos        89.90  \n",
            "3336           Robots      2995.00  \n",
            "3337       Robot Kits       756.00  \n",
            "3338  Training Videos       224.75  \n",
            "\n",
            "[3339 rows x 8 columns]\n"
          ]
        }
      ]
    },
    {
      "cell_type": "code",
      "source": [
        "# Simpan master table ke database SQLite\n",
        "master_table.to_sql('master_table', conn, if_exists='replace', index=False)"
      ],
      "metadata": {
        "colab": {
          "base_uri": "https://localhost:8080/"
        },
        "id": "PV6x0rNeMh_k",
        "outputId": "82fab891-d0d1-4375-d822-3859c9bda7fb"
      },
      "execution_count": 123,
      "outputs": [
        {
          "output_type": "execute_result",
          "data": {
            "text/plain": [
              "3339"
            ]
          },
          "metadata": {},
          "execution_count": 123
        }
      ]
    },
    {
      "cell_type": "code",
      "source": [
        "# Ekspor database sebagai file ZIP\n",
        "!zip -r SalesData.zip SalesData.db\n",
        "files.download(\"SalesData.zip\")"
      ],
      "metadata": {
        "colab": {
          "base_uri": "https://localhost:8080/",
          "height": 34
        },
        "id": "sFol6NSkMnjS",
        "outputId": "10bd6911-07de-41f7-fb46-5659bf44747a"
      },
      "execution_count": 124,
      "outputs": [
        {
          "output_type": "stream",
          "name": "stdout",
          "text": [
            "  adding: SalesData.db (deflated 68%)\n"
          ]
        },
        {
          "output_type": "display_data",
          "data": {
            "text/plain": [
              "<IPython.core.display.Javascript object>"
            ],
            "application/javascript": [
              "\n",
              "    async function download(id, filename, size) {\n",
              "      if (!google.colab.kernel.accessAllowed) {\n",
              "        return;\n",
              "      }\n",
              "      const div = document.createElement('div');\n",
              "      const label = document.createElement('label');\n",
              "      label.textContent = `Downloading \"${filename}\": `;\n",
              "      div.appendChild(label);\n",
              "      const progress = document.createElement('progress');\n",
              "      progress.max = size;\n",
              "      div.appendChild(progress);\n",
              "      document.body.appendChild(div);\n",
              "\n",
              "      const buffers = [];\n",
              "      let downloaded = 0;\n",
              "\n",
              "      const channel = await google.colab.kernel.comms.open(id);\n",
              "      // Send a message to notify the kernel that we're ready.\n",
              "      channel.send({})\n",
              "\n",
              "      for await (const message of channel.messages) {\n",
              "        // Send a message to notify the kernel that we're ready.\n",
              "        channel.send({})\n",
              "        if (message.buffers) {\n",
              "          for (const buffer of message.buffers) {\n",
              "            buffers.push(buffer);\n",
              "            downloaded += buffer.byteLength;\n",
              "            progress.value = downloaded;\n",
              "          }\n",
              "        }\n",
              "      }\n",
              "      const blob = new Blob(buffers, {type: 'application/binary'});\n",
              "      const a = document.createElement('a');\n",
              "      a.href = window.URL.createObjectURL(blob);\n",
              "      a.download = filename;\n",
              "      div.appendChild(a);\n",
              "      a.click();\n",
              "      div.remove();\n",
              "    }\n",
              "  "
            ]
          },
          "metadata": {}
        },
        {
          "output_type": "display_data",
          "data": {
            "text/plain": [
              "<IPython.core.display.Javascript object>"
            ],
            "application/javascript": [
              "download(\"download_352cf7c8-ea2a-4b7d-bd9b-056531245c13\", \"SalesData.zip\", 291104)"
            ]
          },
          "metadata": {}
        }
      ]
    }
  ]
}