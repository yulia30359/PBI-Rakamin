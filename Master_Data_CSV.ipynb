{
  "nbformat": 4,
  "nbformat_minor": 0,
  "metadata": {
    "colab": {
      "provenance": []
    },
    "kernelspec": {
      "name": "python3",
      "display_name": "Python 3"
    },
    "language_info": {
      "name": "python"
    }
  },
  "cells": [
    {
      "cell_type": "code",
      "execution_count": 13,
      "metadata": {
        "id": "PSKtiHZARr6Z"
      },
      "outputs": [],
      "source": [
        "import sqlite3\n",
        "import pandas as pd\n"
      ]
    },
    {
      "cell_type": "code",
      "source": [
        "# Step 1: Koneksi ke database SQLite\n",
        "db_name = \"SalesData.db\"\n",
        "conn = sqlite3.connect(db_name)"
      ],
      "metadata": {
        "id": "YCfv6eW_R0KS"
      },
      "execution_count": 14,
      "outputs": []
    },
    {
      "cell_type": "code",
      "source": [
        "# Lihat daftar tabel yang tersedia\n",
        "query = \"SELECT name FROM sqlite_master WHERE type='table';\"\n",
        "tables = conn.execute(query).fetchall()\n",
        "print(\"Tabel dalam database:\", tables)\n"
      ],
      "metadata": {
        "colab": {
          "base_uri": "https://localhost:8080/"
        },
        "id": "KGJExbs4Tz7Y",
        "outputId": "d46c2736-94fb-4819-d17f-4a46ea83cdc3"
      },
      "execution_count": 15,
      "outputs": [
        {
          "output_type": "stream",
          "name": "stdout",
          "text": [
            "Tabel dalam database: [('customers',), ('orders',), ('products',), ('product_categories',), ('master_table',)]\n"
          ]
        }
      ]
    },
    {
      "cell_type": "code",
      "source": [
        "# Step 2: Check for the 'orders' table\n",
        "cursor = conn.cursor()\n",
        "cursor.execute(\"SELECT name FROM sqlite_master WHERE type='table';\")\n",
        "available_tables = cursor.fetchall()\n",
        "\n",
        "print(\"Tables in the database:\")\n",
        "for table in available_tables:\n",
        "    print(table[0])"
      ],
      "metadata": {
        "colab": {
          "base_uri": "https://localhost:8080/"
        },
        "id": "wPbLC_kMSoqD",
        "outputId": "e05fcc4c-ec05-46cf-884a-6c58210a35d3"
      },
      "execution_count": 16,
      "outputs": [
        {
          "output_type": "stream",
          "name": "stdout",
          "text": [
            "Tables in the database:\n",
            "customers\n",
            "orders\n",
            "products\n",
            "product_categories\n",
            "master_table\n"
          ]
        }
      ]
    },
    {
      "cell_type": "code",
      "source": [
        "# If the table exists, your original query should work:\n",
        "query = \"\"\"\n",
        "SELECT\n",
        "    c.CustomerEmail AS cust_email,\n",
        "    c.CustomerCity AS cust_city,\n",
        "    o.Date AS order_date,\n",
        "    o.Quantity AS order_qty,\n",
        "    p.ProdName AS product_name,\n",
        "    p.Price AS product_price,\n",
        "    pc.CategoryName AS category_name,\n",
        "    (o.Quantity * p.Price) AS total_sales\n",
        "FROM orders o\n",
        "JOIN customers c ON o.CustomerID = c.CustomerID\n",
        "JOIN products p ON o.ProdNumber = p.ProdNumber\n",
        "JOIN product_categories pc ON p.Category = pc.CategoryID\n",
        "ORDER BY o.Date\n",
        "\"\"\""
      ],
      "metadata": {
        "id": "16Q8Ngw8SAVb"
      },
      "execution_count": 23,
      "outputs": []
    },
    {
      "cell_type": "code",
      "source": [
        "# Step 3: Eksekusi query dan simpan dalam DataFrame\n",
        "master_data = pd.read_sql_query(query, conn)"
      ],
      "metadata": {
        "id": "W9lA-IzRSGIM"
      },
      "execution_count": 24,
      "outputs": []
    },
    {
      "cell_type": "code",
      "source": [
        "# Tampilkan hasil untuk verifikasi\n",
        "print(\"5 Baris Data Master:\")\n",
        "print(master_data.head())"
      ],
      "metadata": {
        "colab": {
          "base_uri": "https://localhost:8080/"
        },
        "id": "9JdgDEseVFdp",
        "outputId": "efa50523-5f15-4df3-ecbe-311f74a3523c"
      },
      "execution_count": 25,
      "outputs": [
        {
          "output_type": "stream",
          "name": "stdout",
          "text": [
            "5 Baris Data Master:\n",
            "                                          cust_email         cust_city  \\\n",
            "0  fvaslerqt@comsenz.com#mailto:fvaslerqt@comsenz...           Jackson   \n",
            "1  tmckernot@tinyurl.com#mailto:tmckernot@tinyurl...              Katy   \n",
            "2  gstiggersdd@eventbrite.com#mailto:gstiggersdd@...  Saint Petersburg   \n",
            "3                  edew@nba.com#mailto:edew@nba.com#          Honolulu   \n",
            "4        llespercx@com.com#mailto:llespercx@com.com#        Des Moines   \n",
            "\n",
            "            order_date  order_qty            product_name  product_price  \\\n",
            "0  2020-01-01 00:00:00          2            Polar Robots          23.99   \n",
            "1  2020-01-01 00:00:00          3            RWW-75 Robot         883.00   \n",
            "2  2020-01-01 00:00:00          6  Drone Video Techniques          37.99   \n",
            "3  2020-01-01 00:00:00          1                BYOD-220          69.00   \n",
            "4  2020-01-01 00:00:00          5            SCARA Robots          19.50   \n",
            "\n",
            "     category_name  total_sales  \n",
            "0           eBooks        47.98  \n",
            "1           Robots      2649.00  \n",
            "2  Training Videos       227.94  \n",
            "3       Drone Kits        69.00  \n",
            "4           eBooks        97.50  \n"
          ]
        }
      ]
    },
    {
      "cell_type": "code",
      "source": [
        "# Step 4: Simpan DataFrame ke file CSV\n",
        "csv_file_name = \"master_data.csv\"\n",
        "master_data.to_csv(csv_file_name, index=False)"
      ],
      "metadata": {
        "id": "2N6fUmszVHb6"
      },
      "execution_count": 26,
      "outputs": []
    },
    {
      "cell_type": "code",
      "source": [
        "# Step 5: Unduh file CSV\n",
        "from google.colab import files\n",
        "files.download(csv_file_name)"
      ],
      "metadata": {
        "colab": {
          "base_uri": "https://localhost:8080/",
          "height": 17
        },
        "id": "uLws1_u2VLnA",
        "outputId": "928ac0b8-cfee-4ac9-fb4a-e7c29f926a82"
      },
      "execution_count": 27,
      "outputs": [
        {
          "output_type": "display_data",
          "data": {
            "text/plain": [
              "<IPython.core.display.Javascript object>"
            ],
            "application/javascript": [
              "\n",
              "    async function download(id, filename, size) {\n",
              "      if (!google.colab.kernel.accessAllowed) {\n",
              "        return;\n",
              "      }\n",
              "      const div = document.createElement('div');\n",
              "      const label = document.createElement('label');\n",
              "      label.textContent = `Downloading \"${filename}\": `;\n",
              "      div.appendChild(label);\n",
              "      const progress = document.createElement('progress');\n",
              "      progress.max = size;\n",
              "      div.appendChild(progress);\n",
              "      document.body.appendChild(div);\n",
              "\n",
              "      const buffers = [];\n",
              "      let downloaded = 0;\n",
              "\n",
              "      const channel = await google.colab.kernel.comms.open(id);\n",
              "      // Send a message to notify the kernel that we're ready.\n",
              "      channel.send({})\n",
              "\n",
              "      for await (const message of channel.messages) {\n",
              "        // Send a message to notify the kernel that we're ready.\n",
              "        channel.send({})\n",
              "        if (message.buffers) {\n",
              "          for (const buffer of message.buffers) {\n",
              "            buffers.push(buffer);\n",
              "            downloaded += buffer.byteLength;\n",
              "            progress.value = downloaded;\n",
              "          }\n",
              "        }\n",
              "      }\n",
              "      const blob = new Blob(buffers, {type: 'application/binary'});\n",
              "      const a = document.createElement('a');\n",
              "      a.href = window.URL.createObjectURL(blob);\n",
              "      a.download = filename;\n",
              "      div.appendChild(a);\n",
              "      a.click();\n",
              "      div.remove();\n",
              "    }\n",
              "  "
            ]
          },
          "metadata": {}
        },
        {
          "output_type": "display_data",
          "data": {
            "text/plain": [
              "<IPython.core.display.Javascript object>"
            ],
            "application/javascript": [
              "download(\"download_4f7302ae-17f1-4145-9f77-fcce84b8bee5\", \"master_data.csv\", 419154)"
            ]
          },
          "metadata": {}
        }
      ]
    },
    {
      "cell_type": "code",
      "source": [
        "# Tutup koneksi database\n",
        "conn.close()"
      ],
      "metadata": {
        "id": "tq75tq6iVTV_"
      },
      "execution_count": 28,
      "outputs": []
    }
  ]
}